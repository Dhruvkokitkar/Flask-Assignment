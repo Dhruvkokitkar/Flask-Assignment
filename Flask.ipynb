{
 "cells": [
  {
   "cell_type": "markdown",
   "id": "11221361-4d8d-4133-b5ee-6bee1aa2d8c6",
   "metadata": {},
   "source": [
    "1 What is Flask Framework? What are the advantages of Flask Framework?\n",
    "Flask is a web framework. This means flask provides you with tools, libraries and technologies that allow you to build a web application. This web application can be some web pages, a blog, a wiki or go as big as a web-based calendar application or a commercial website.\n",
    "Advantages\n",
    " Higher flexibility , compatibility and scalability.\n",
    " Easier to use and higher framework performance.\n",
    " Smaller size of the code base."
   ]
  },
  {
   "cell_type": "markdown",
   "id": "016e4d6c-c1ef-44dc-b2aa-ab0ab1468a86",
   "metadata": {},
   "source": [
    "3 What is App routing in Flask? Why do we use app routes?\n",
    "App Routing means mapping the URLs to a specific function that will handle the logic for that URL. Modern web frameworks use more meaningful URLs to help users remember the URLs and make navigation simpler. Example: In our application, the URL (“/”) is associated with the root URL.\n",
    "App Routing means mapping the URLs to a specific function that will handle the logic for that URL. Modern web frameworks use more meaningful URLs to help users remember the URLs and make navigation simpler."
   ]
  },
  {
   "cell_type": "markdown",
   "id": "41f7ed0b-d186-4c89-ac4f-f275befc5fdb",
   "metadata": {},
   "source": [
    "2 https://red-nurse-dljdo.pwskills.app:5000/"
   ]
  },
  {
   "cell_type": "markdown",
   "id": "4eb35df0-9638-44a6-afa4-ea7302386468",
   "metadata": {},
   "source": [
    "4 Create a “/welcome” route to display the welcome message “Welcome to ABC Corporation” and a “/”\n",
    "route to show the following details:\n",
    "from flask import Flask\n",
    "\n",
    "app = Flask(_name_)\n",
    "\n",
    "@app.route(\"/\")\n",
    "def start_page():\n",
    "    return \"Company Name: ABC Corporation <br /> Location: India <br /> Contact Detail: 999-999-9999\"\n",
    "\n",
    "@app.route(\"/welcome\")\n",
    "def welcome_page():\n",
    "    return \"Welcome to ABC Corporation\"\n",
    "\n",
    "if _name==\"main_\":\n",
    "    app.run(host=\"0.0.0.0\")\n",
    "    \n",
    "https://lemon-mechanic-pojvk.pwskills.app:5000/"
   ]
  },
  {
   "cell_type": "markdown",
   "id": "a89d7446-bb6b-49fc-b6c5-e8b81d7f417e",
   "metadata": {},
   "source": []
  }
 ],
 "metadata": {
  "kernelspec": {
   "display_name": "Python 3 (ipykernel)",
   "language": "python",
   "name": "python3"
  },
  "language_info": {
   "codemirror_mode": {
    "name": "ipython",
    "version": 3
   },
   "file_extension": ".py",
   "mimetype": "text/x-python",
   "name": "python",
   "nbconvert_exporter": "python",
   "pygments_lexer": "ipython3",
   "version": "3.10.8"
  }
 },
 "nbformat": 4,
 "nbformat_minor": 5
}
